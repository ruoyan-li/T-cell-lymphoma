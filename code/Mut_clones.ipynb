{
 "cells": [
  {
   "cell_type": "markdown",
   "id": "controlled-question",
   "metadata": {},
   "source": [
    "### Final TL6678"
   ]
  },
  {
   "cell_type": "code",
   "execution_count": 1,
   "id": "norman-pipeline",
   "metadata": {},
   "outputs": [
    {
     "name": "stderr",
     "output_type": "stream",
     "text": [
      "\n",
      "Attaching package: ‘dplyr’\n",
      "\n",
      "\n",
      "The following objects are masked from ‘package:stats’:\n",
      "\n",
      "    filter, lag\n",
      "\n",
      "\n",
      "The following objects are masked from ‘package:base’:\n",
      "\n",
      "    intersect, setdiff, setequal, union\n",
      "\n",
      "\n"
     ]
    }
   ],
   "source": [
    "library(reshape2)\n",
    "library(dplyr)\n",
    "\n"
   ]
  },
  {
   "cell_type": "code",
   "execution_count": 2,
   "id": "perfect-victory",
   "metadata": {},
   "outputs": [],
   "source": [
    "data <- read.table('/lustre/scratch126/cellgen/team205/rl20/T_cell_lym/SComatic_new_ok/TL6678-GEX-genotypes/TL6678_malig_only_genotype_filter.tsv',\n",
    "                  header=T)"
   ]
  },
  {
   "cell_type": "code",
   "execution_count": 3,
   "id": "sapphire-silicon",
   "metadata": {},
   "outputs": [],
   "source": [
    "data$Mut_inf <- paste(data$CHROM, data$Start, \n",
    "                      data$REF, data$ALT_expected, sep=\":\")"
   ]
  },
  {
   "cell_type": "code",
   "execution_count": 4,
   "id": "rocky-livestock",
   "metadata": {},
   "outputs": [
    {
     "name": "stderr",
     "output_type": "stream",
     "text": [
      "Using Mut_inf as value column: use value.var to override.\n",
      "\n",
      "Aggregation function missing: defaulting to length\n",
      "\n"
     ]
    }
   ],
   "source": [
    "cast_data <- dcast(data, CB~Mut_inf)"
   ]
  },
  {
   "cell_type": "code",
   "execution_count": 5,
   "id": "academic-oxide",
   "metadata": {},
   "outputs": [],
   "source": [
    "mat <- matrix(nrow = nrow(cast_data), ncol = ncol(cast_data)-1, data = NA)\n",
    "rownames(mat) <- cast_data$CB\n",
    "colnames(mat) <- colnames(cast_data)[-1]"
   ]
  },
  {
   "cell_type": "code",
   "execution_count": 6,
   "id": "embedded-smith",
   "metadata": {},
   "outputs": [
    {
     "data": {
      "text/html": [
       "<table class=\"dataframe\">\n",
       "<caption>A matrix: 6 × 278 of type lgl</caption>\n",
       "<thead>\n",
       "\t<tr><th></th><th scope=col>chr1:109091351:C:T</th><th scope=col>chr1:109738306:T:G</th><th scope=col>chr1:110895421:G:A</th><th scope=col>chr1:111182050:A:G</th><th scope=col>chr1:112703101:C:T</th><th scope=col>chr1:117059250:T:C</th><th scope=col>chr1:13714696:C:T</th><th scope=col>chr1:147083400:T:C</th><th scope=col>chr1:151107089:A:G</th><th scope=col>chr1:156817247:A:G</th><th scope=col>⋯</th><th scope=col>chr9:78031610:T:C</th><th scope=col>chr9:79608953:G:A</th><th scope=col>chrX:12975615:G:A</th><th scope=col>chrX:154352871:T:C</th><th scope=col>chrX:154379465:C:T</th><th scope=col>chrX:16789389:A:G</th><th scope=col>chrX:49073882:G:A</th><th scope=col>chrX:53081811:G:T</th><th scope=col>chrX:57121152:T:A</th><th scope=col>chrX:79171181:G:A</th></tr>\n",
       "</thead>\n",
       "<tbody>\n",
       "\t<tr><th scope=row>NHL_TCEL11348935_AAACCTGAGACCACGA</th><td>NA</td><td>NA</td><td>NA</td><td>NA</td><td>NA</td><td>NA</td><td>NA</td><td>NA</td><td>NA</td><td>NA</td><td>⋯</td><td>NA</td><td>NA</td><td>NA</td><td>NA</td><td>NA</td><td>NA</td><td>NA</td><td>NA</td><td>NA</td><td>NA</td></tr>\n",
       "\t<tr><th scope=row>NHL_TCEL11348935_AAACCTGAGCAATATG</th><td>NA</td><td>NA</td><td>NA</td><td>NA</td><td>NA</td><td>NA</td><td>NA</td><td>NA</td><td>NA</td><td>NA</td><td>⋯</td><td>NA</td><td>NA</td><td>NA</td><td>NA</td><td>NA</td><td>NA</td><td>NA</td><td>NA</td><td>NA</td><td>NA</td></tr>\n",
       "\t<tr><th scope=row>NHL_TCEL11348935_AAACCTGAGCCTTGAT</th><td>NA</td><td>NA</td><td>NA</td><td>NA</td><td>NA</td><td>NA</td><td>NA</td><td>NA</td><td>NA</td><td>NA</td><td>⋯</td><td>NA</td><td>NA</td><td>NA</td><td>NA</td><td>NA</td><td>NA</td><td>NA</td><td>NA</td><td>NA</td><td>NA</td></tr>\n",
       "\t<tr><th scope=row>NHL_TCEL11348935_AAACCTGAGCGCTCCA</th><td>NA</td><td>NA</td><td>NA</td><td>NA</td><td>NA</td><td>NA</td><td>NA</td><td>NA</td><td>NA</td><td>NA</td><td>⋯</td><td>NA</td><td>NA</td><td>NA</td><td>NA</td><td>NA</td><td>NA</td><td>NA</td><td>NA</td><td>NA</td><td>NA</td></tr>\n",
       "\t<tr><th scope=row>NHL_TCEL11348935_AAACCTGAGGATCGCA</th><td>NA</td><td>NA</td><td>NA</td><td>NA</td><td>NA</td><td>NA</td><td>NA</td><td>NA</td><td>NA</td><td>NA</td><td>⋯</td><td>NA</td><td>NA</td><td>NA</td><td>NA</td><td>NA</td><td>NA</td><td>NA</td><td>NA</td><td>NA</td><td>NA</td></tr>\n",
       "\t<tr><th scope=row>NHL_TCEL11348935_AAACCTGAGGCCGAAT</th><td>NA</td><td>NA</td><td>NA</td><td>NA</td><td>NA</td><td>NA</td><td>NA</td><td>NA</td><td>NA</td><td>NA</td><td>⋯</td><td>NA</td><td>NA</td><td>NA</td><td>NA</td><td>NA</td><td>NA</td><td>NA</td><td>NA</td><td>NA</td><td>NA</td></tr>\n",
       "</tbody>\n",
       "</table>\n"
      ],
      "text/latex": [
       "A matrix: 6 × 278 of type lgl\n",
       "\\begin{tabular}{r|lllllllllllllllllllll}\n",
       "  & chr1:109091351:C:T & chr1:109738306:T:G & chr1:110895421:G:A & chr1:111182050:A:G & chr1:112703101:C:T & chr1:117059250:T:C & chr1:13714696:C:T & chr1:147083400:T:C & chr1:151107089:A:G & chr1:156817247:A:G & ⋯ & chr9:78031610:T:C & chr9:79608953:G:A & chrX:12975615:G:A & chrX:154352871:T:C & chrX:154379465:C:T & chrX:16789389:A:G & chrX:49073882:G:A & chrX:53081811:G:T & chrX:57121152:T:A & chrX:79171181:G:A\\\\\n",
       "\\hline\n",
       "\tNHL\\_TCEL11348935\\_AAACCTGAGACCACGA & NA & NA & NA & NA & NA & NA & NA & NA & NA & NA & ⋯ & NA & NA & NA & NA & NA & NA & NA & NA & NA & NA\\\\\n",
       "\tNHL\\_TCEL11348935\\_AAACCTGAGCAATATG & NA & NA & NA & NA & NA & NA & NA & NA & NA & NA & ⋯ & NA & NA & NA & NA & NA & NA & NA & NA & NA & NA\\\\\n",
       "\tNHL\\_TCEL11348935\\_AAACCTGAGCCTTGAT & NA & NA & NA & NA & NA & NA & NA & NA & NA & NA & ⋯ & NA & NA & NA & NA & NA & NA & NA & NA & NA & NA\\\\\n",
       "\tNHL\\_TCEL11348935\\_AAACCTGAGCGCTCCA & NA & NA & NA & NA & NA & NA & NA & NA & NA & NA & ⋯ & NA & NA & NA & NA & NA & NA & NA & NA & NA & NA\\\\\n",
       "\tNHL\\_TCEL11348935\\_AAACCTGAGGATCGCA & NA & NA & NA & NA & NA & NA & NA & NA & NA & NA & ⋯ & NA & NA & NA & NA & NA & NA & NA & NA & NA & NA\\\\\n",
       "\tNHL\\_TCEL11348935\\_AAACCTGAGGCCGAAT & NA & NA & NA & NA & NA & NA & NA & NA & NA & NA & ⋯ & NA & NA & NA & NA & NA & NA & NA & NA & NA & NA\\\\\n",
       "\\end{tabular}\n"
      ],
      "text/markdown": [
       "\n",
       "A matrix: 6 × 278 of type lgl\n",
       "\n",
       "| <!--/--> | chr1:109091351:C:T | chr1:109738306:T:G | chr1:110895421:G:A | chr1:111182050:A:G | chr1:112703101:C:T | chr1:117059250:T:C | chr1:13714696:C:T | chr1:147083400:T:C | chr1:151107089:A:G | chr1:156817247:A:G | ⋯ | chr9:78031610:T:C | chr9:79608953:G:A | chrX:12975615:G:A | chrX:154352871:T:C | chrX:154379465:C:T | chrX:16789389:A:G | chrX:49073882:G:A | chrX:53081811:G:T | chrX:57121152:T:A | chrX:79171181:G:A |\n",
       "|---|---|---|---|---|---|---|---|---|---|---|---|---|---|---|---|---|---|---|---|---|---|\n",
       "| NHL_TCEL11348935_AAACCTGAGACCACGA | NA | NA | NA | NA | NA | NA | NA | NA | NA | NA | ⋯ | NA | NA | NA | NA | NA | NA | NA | NA | NA | NA |\n",
       "| NHL_TCEL11348935_AAACCTGAGCAATATG | NA | NA | NA | NA | NA | NA | NA | NA | NA | NA | ⋯ | NA | NA | NA | NA | NA | NA | NA | NA | NA | NA |\n",
       "| NHL_TCEL11348935_AAACCTGAGCCTTGAT | NA | NA | NA | NA | NA | NA | NA | NA | NA | NA | ⋯ | NA | NA | NA | NA | NA | NA | NA | NA | NA | NA |\n",
       "| NHL_TCEL11348935_AAACCTGAGCGCTCCA | NA | NA | NA | NA | NA | NA | NA | NA | NA | NA | ⋯ | NA | NA | NA | NA | NA | NA | NA | NA | NA | NA |\n",
       "| NHL_TCEL11348935_AAACCTGAGGATCGCA | NA | NA | NA | NA | NA | NA | NA | NA | NA | NA | ⋯ | NA | NA | NA | NA | NA | NA | NA | NA | NA | NA |\n",
       "| NHL_TCEL11348935_AAACCTGAGGCCGAAT | NA | NA | NA | NA | NA | NA | NA | NA | NA | NA | ⋯ | NA | NA | NA | NA | NA | NA | NA | NA | NA | NA |\n",
       "\n"
      ],
      "text/plain": [
       "                                  chr1:109091351:C:T chr1:109738306:T:G\n",
       "NHL_TCEL11348935_AAACCTGAGACCACGA NA                 NA                \n",
       "NHL_TCEL11348935_AAACCTGAGCAATATG NA                 NA                \n",
       "NHL_TCEL11348935_AAACCTGAGCCTTGAT NA                 NA                \n",
       "NHL_TCEL11348935_AAACCTGAGCGCTCCA NA                 NA                \n",
       "NHL_TCEL11348935_AAACCTGAGGATCGCA NA                 NA                \n",
       "NHL_TCEL11348935_AAACCTGAGGCCGAAT NA                 NA                \n",
       "                                  chr1:110895421:G:A chr1:111182050:A:G\n",
       "NHL_TCEL11348935_AAACCTGAGACCACGA NA                 NA                \n",
       "NHL_TCEL11348935_AAACCTGAGCAATATG NA                 NA                \n",
       "NHL_TCEL11348935_AAACCTGAGCCTTGAT NA                 NA                \n",
       "NHL_TCEL11348935_AAACCTGAGCGCTCCA NA                 NA                \n",
       "NHL_TCEL11348935_AAACCTGAGGATCGCA NA                 NA                \n",
       "NHL_TCEL11348935_AAACCTGAGGCCGAAT NA                 NA                \n",
       "                                  chr1:112703101:C:T chr1:117059250:T:C\n",
       "NHL_TCEL11348935_AAACCTGAGACCACGA NA                 NA                \n",
       "NHL_TCEL11348935_AAACCTGAGCAATATG NA                 NA                \n",
       "NHL_TCEL11348935_AAACCTGAGCCTTGAT NA                 NA                \n",
       "NHL_TCEL11348935_AAACCTGAGCGCTCCA NA                 NA                \n",
       "NHL_TCEL11348935_AAACCTGAGGATCGCA NA                 NA                \n",
       "NHL_TCEL11348935_AAACCTGAGGCCGAAT NA                 NA                \n",
       "                                  chr1:13714696:C:T chr1:147083400:T:C\n",
       "NHL_TCEL11348935_AAACCTGAGACCACGA NA                NA                \n",
       "NHL_TCEL11348935_AAACCTGAGCAATATG NA                NA                \n",
       "NHL_TCEL11348935_AAACCTGAGCCTTGAT NA                NA                \n",
       "NHL_TCEL11348935_AAACCTGAGCGCTCCA NA                NA                \n",
       "NHL_TCEL11348935_AAACCTGAGGATCGCA NA                NA                \n",
       "NHL_TCEL11348935_AAACCTGAGGCCGAAT NA                NA                \n",
       "                                  chr1:151107089:A:G chr1:156817247:A:G ⋯\n",
       "NHL_TCEL11348935_AAACCTGAGACCACGA NA                 NA                 ⋯\n",
       "NHL_TCEL11348935_AAACCTGAGCAATATG NA                 NA                 ⋯\n",
       "NHL_TCEL11348935_AAACCTGAGCCTTGAT NA                 NA                 ⋯\n",
       "NHL_TCEL11348935_AAACCTGAGCGCTCCA NA                 NA                 ⋯\n",
       "NHL_TCEL11348935_AAACCTGAGGATCGCA NA                 NA                 ⋯\n",
       "NHL_TCEL11348935_AAACCTGAGGCCGAAT NA                 NA                 ⋯\n",
       "                                  chr9:78031610:T:C chr9:79608953:G:A\n",
       "NHL_TCEL11348935_AAACCTGAGACCACGA NA                NA               \n",
       "NHL_TCEL11348935_AAACCTGAGCAATATG NA                NA               \n",
       "NHL_TCEL11348935_AAACCTGAGCCTTGAT NA                NA               \n",
       "NHL_TCEL11348935_AAACCTGAGCGCTCCA NA                NA               \n",
       "NHL_TCEL11348935_AAACCTGAGGATCGCA NA                NA               \n",
       "NHL_TCEL11348935_AAACCTGAGGCCGAAT NA                NA               \n",
       "                                  chrX:12975615:G:A chrX:154352871:T:C\n",
       "NHL_TCEL11348935_AAACCTGAGACCACGA NA                NA                \n",
       "NHL_TCEL11348935_AAACCTGAGCAATATG NA                NA                \n",
       "NHL_TCEL11348935_AAACCTGAGCCTTGAT NA                NA                \n",
       "NHL_TCEL11348935_AAACCTGAGCGCTCCA NA                NA                \n",
       "NHL_TCEL11348935_AAACCTGAGGATCGCA NA                NA                \n",
       "NHL_TCEL11348935_AAACCTGAGGCCGAAT NA                NA                \n",
       "                                  chrX:154379465:C:T chrX:16789389:A:G\n",
       "NHL_TCEL11348935_AAACCTGAGACCACGA NA                 NA               \n",
       "NHL_TCEL11348935_AAACCTGAGCAATATG NA                 NA               \n",
       "NHL_TCEL11348935_AAACCTGAGCCTTGAT NA                 NA               \n",
       "NHL_TCEL11348935_AAACCTGAGCGCTCCA NA                 NA               \n",
       "NHL_TCEL11348935_AAACCTGAGGATCGCA NA                 NA               \n",
       "NHL_TCEL11348935_AAACCTGAGGCCGAAT NA                 NA               \n",
       "                                  chrX:49073882:G:A chrX:53081811:G:T\n",
       "NHL_TCEL11348935_AAACCTGAGACCACGA NA                NA               \n",
       "NHL_TCEL11348935_AAACCTGAGCAATATG NA                NA               \n",
       "NHL_TCEL11348935_AAACCTGAGCCTTGAT NA                NA               \n",
       "NHL_TCEL11348935_AAACCTGAGCGCTCCA NA                NA               \n",
       "NHL_TCEL11348935_AAACCTGAGGATCGCA NA                NA               \n",
       "NHL_TCEL11348935_AAACCTGAGGCCGAAT NA                NA               \n",
       "                                  chrX:57121152:T:A chrX:79171181:G:A\n",
       "NHL_TCEL11348935_AAACCTGAGACCACGA NA                NA               \n",
       "NHL_TCEL11348935_AAACCTGAGCAATATG NA                NA               \n",
       "NHL_TCEL11348935_AAACCTGAGCCTTGAT NA                NA               \n",
       "NHL_TCEL11348935_AAACCTGAGCGCTCCA NA                NA               \n",
       "NHL_TCEL11348935_AAACCTGAGGATCGCA NA                NA               \n",
       "NHL_TCEL11348935_AAACCTGAGGCCGAAT NA                NA               "
      ]
     },
     "metadata": {},
     "output_type": "display_data"
    }
   ],
   "source": [
    "mat %>% head"
   ]
  },
  {
   "cell_type": "code",
   "execution_count": 7,
   "id": "coordinate-packing",
   "metadata": {},
   "outputs": [],
   "source": [
    "for (i in 1:nrow(data)) {\n",
    "    if (data$Base_observed[i] == data$ALT_expected[i]) {\n",
    "        mat[data$CB[i], data$Mut_inf[i]] <- 1\n",
    "    } else if (data$Base_observed[i] == data$REF[i]) {\n",
    "        mat[data$CB[i], data$Mut_inf[i]] <- 0\n",
    "    }\n",
    "}"
   ]
  },
  {
   "cell_type": "code",
   "execution_count": 8,
   "id": "embedded-economics",
   "metadata": {},
   "outputs": [],
   "source": [
    "filter_mut <- apply(mat, 2, function(x) sum(x==1, na.rm=T))\n",
    "filter_genotype <- apply(mat, 2, function(x) sum(!is.na(x))/nrow(mat)*100)"
   ]
  },
  {
   "cell_type": "code",
   "execution_count": 9,
   "id": "equipped-creativity",
   "metadata": {},
   "outputs": [
    {
     "data": {
      "text/html": [
       "<style>\n",
       ".dl-inline {width: auto; margin:0; padding: 0}\n",
       ".dl-inline>dt, .dl-inline>dd {float: none; width: auto; display: inline-block}\n",
       ".dl-inline>dt::after {content: \":\\0020\"; padding-right: .5ex}\n",
       ".dl-inline>dt:not(:first-of-type) {padding-left: .5ex}\n",
       "</style><dl class=dl-inline><dt>chr1:112703101:C:T</dt><dd>5</dd><dt>chr13:21140666:G:A</dt><dd>67</dd><dt>chr17:3723319:G:A</dt><dd>98</dd><dt>chr19:10105378:G:T</dt><dd>116</dd><dt>chr2:55232815:C:T</dt><dd>145</dd><dt>chr20:35742778:A:T</dt><dd>155</dd><dt>chr22:41281076:C:G</dt><dd>168</dd><dt>chr6:134994432:C:T</dt><dd>216</dd><dt>chr7:18495950:G:A</dt><dd>243</dd></dl>\n"
      ],
      "text/latex": [
       "\\begin{description*}\n",
       "\\item[chr1:112703101:C:T] 5\n",
       "\\item[chr13:21140666:G:A] 67\n",
       "\\item[chr17:3723319:G:A] 98\n",
       "\\item[chr19:10105378:G:T] 116\n",
       "\\item[chr2:55232815:C:T] 145\n",
       "\\item[chr20:35742778:A:T] 155\n",
       "\\item[chr22:41281076:C:G] 168\n",
       "\\item[chr6:134994432:C:T] 216\n",
       "\\item[chr7:18495950:G:A] 243\n",
       "\\end{description*}\n"
      ],
      "text/markdown": [
       "chr1:112703101:C:T\n",
       ":   5chr13:21140666:G:A\n",
       ":   67chr17:3723319:G:A\n",
       ":   98chr19:10105378:G:T\n",
       ":   116chr2:55232815:C:T\n",
       ":   145chr20:35742778:A:T\n",
       ":   155chr22:41281076:C:G\n",
       ":   168chr6:134994432:C:T\n",
       ":   216chr7:18495950:G:A\n",
       ":   243\n",
       "\n"
      ],
      "text/plain": [
       "chr1:112703101:C:T chr13:21140666:G:A  chr17:3723319:G:A chr19:10105378:G:T \n",
       "                 5                 67                 98                116 \n",
       " chr2:55232815:C:T chr20:35742778:A:T chr22:41281076:C:G chr6:134994432:C:T \n",
       "               145                155                168                216 \n",
       " chr7:18495950:G:A \n",
       "               243 "
      ]
     },
     "metadata": {},
     "output_type": "display_data"
    }
   ],
   "source": [
    "which(filter_mut >= 50 & filter_genotype >= 2)"
   ]
  },
  {
   "cell_type": "code",
   "execution_count": 10,
   "id": "cognitive-layout",
   "metadata": {},
   "outputs": [
    {
     "data": {
      "text/html": [
       "<style>\n",
       ".list-inline {list-style: none; margin:0; padding: 0}\n",
       ".list-inline>li {display: inline-block}\n",
       ".list-inline>li:not(:last-child)::after {content: \"\\00b7\"; padding: 0 .5ex}\n",
       "</style>\n",
       "<ol class=list-inline><li>1288</li><li>9</li></ol>\n"
      ],
      "text/latex": [
       "\\begin{enumerate*}\n",
       "\\item 1288\n",
       "\\item 9\n",
       "\\end{enumerate*}\n"
      ],
      "text/markdown": [
       "1. 1288\n",
       "2. 9\n",
       "\n",
       "\n"
      ],
      "text/plain": [
       "[1] 1288    9"
      ]
     },
     "metadata": {},
     "output_type": "display_data"
    }
   ],
   "source": [
    "### filter mut mat\n",
    "mat_sub <- mat[, which(filter_mut >= 50 & filter_genotype >= 2)]\n",
    "#ll <- apply(mat_sub, 1, function(x) sum(x, na.rm = TRUE)\n",
    "ll <- apply(mat_sub, 1, function(x) all(x %>% is.na))\n",
    "mat_sub <- mat_sub[-which(ll), ]\n",
    "mm <- apply(mat_sub, 1, function(x) any(x==1, na.rm=TRUE))   \n",
    "mat_sub <- mat_sub[which(mm), ]\n",
    "            \n",
    "mat_sub %>% dim"
   ]
  },
  {
   "cell_type": "code",
   "execution_count": 11,
   "id": "lesser-wyoming",
   "metadata": {},
   "outputs": [
    {
     "name": "stderr",
     "output_type": "stream",
     "text": [
      "\n",
      "Attaching package: ‘ape’\n",
      "\n",
      "\n",
      "The following object is masked from ‘package:cultevo’:\n",
      "\n",
      "    mantel.test\n",
      "\n",
      "\n",
      "The following object is masked from ‘package:dplyr’:\n",
      "\n",
      "    where\n",
      "\n",
      "\n"
     ]
    }
   ],
   "source": [
    "library(cultevo)\n",
    "library(ape)\n",
    "\n",
    "dist_row <- hammingdists(t(mat_sub))\n",
    "dist_col <- hammingdists(mat_sub)"
   ]
  },
  {
   "cell_type": "code",
   "execution_count": 14,
   "id": "continuing-commission",
   "metadata": {},
   "outputs": [
    {
     "data": {
      "image/png": "[encoded data removed]",
      "text/plain": [
       "plot without title"
      ]
     },
     "metadata": {
      "image/png": {
       "height": 420,
       "width": 420
      }
     },
     "output_type": "display_data"
    }
   ],
   "source": [
    "library(pheatmap)\n",
    "library(RColorBrewer)\n",
    "\n",
    "x <- pheatmap(t(mat_sub), cluster_cols=T, cluster_rows=F, \n",
    "              clustering_distance_rows= dist_row ,clustering_distance_cols=dist_col, \n",
    "              color=c(\"white\", \"grey90\", \"red\"), \n",
    "              fontsize=8,treeheight_row=30,treeheight_col=30, \n",
    "              cellheight = 20,cellwidth = 0.25,show_rownames=T, \n",
    "              show_colnames=F,clustering_method = \"ward.D\", border_color = \"NA\", cutree_cols = 4)"
   ]
  },
  {
   "cell_type": "code",
   "execution_count": null,
   "id": "hollywood-congo",
   "metadata": {},
   "outputs": [],
   "source": [
    "x <- pheatmap(t(mat_sub), cluster_cols=T, cluster_rows=F, \n",
    "              clustering_distance_rows= dist_row ,clustering_distance_cols=dist_col, \n",
    "              color=c(\"white\", \"grey90\", \"red\"), \n",
    "              fontsize=8,treeheight_row=30,treeheight_col=30, \n",
    "              cellheight = 20,cellwidth = 0.2,show_rownames=T, \n",
    "              show_colnames=F,clustering_method = \"ward.D\", border_color = \"NA\", cutree_cols = 4, \n",
    "              filename = 'mutant_clones_TL6678.pdf')"
   ]
  },
  {
   "cell_type": "code",
   "execution_count": 15,
   "id": "published-alpha",
   "metadata": {},
   "outputs": [
    {
     "data": {
      "text/html": [
       "658"
      ],
      "text/latex": [
       "658"
      ],
      "text/markdown": [
       "658"
      ],
      "text/plain": [
       "[1] 658"
      ]
     },
     "metadata": {},
     "output_type": "display_data"
    },
    {
     "data": {
      "text/html": [
       "370"
      ],
      "text/latex": [
       "370"
      ],
      "text/markdown": [
       "370"
      ],
      "text/plain": [
       "[1] 370"
      ]
     },
     "metadata": {},
     "output_type": "display_data"
    },
    {
     "data": {
      "text/html": [
       "135"
      ],
      "text/latex": [
       "135"
      ],
      "text/markdown": [
       "135"
      ],
      "text/plain": [
       "[1] 135"
      ]
     },
     "metadata": {},
     "output_type": "display_data"
    },
    {
     "data": {
      "text/html": [
       "125"
      ],
      "text/latex": [
       "125"
      ],
      "text/markdown": [
       "125"
      ],
      "text/plain": [
       "[1] 125"
      ]
     },
     "metadata": {},
     "output_type": "display_data"
    }
   ],
   "source": [
    "tree_cut <- cutree(x$tree_col, k = 4)\n",
    "sum(tree_cut==1)\n",
    "sum(tree_cut==2)\n",
    "sum(tree_cut==3)\n",
    "sum(tree_cut==4)"
   ]
  },
  {
   "cell_type": "code",
   "execution_count": 16,
   "id": "induced-disclaimer",
   "metadata": {},
   "outputs": [],
   "source": [
    "hh <- cbind(mat_sub, cutree(x$tree_col, k = 4))\n",
    "clust <- hh[,ncol(hh)]"
   ]
  },
  {
   "cell_type": "code",
   "execution_count": 78,
   "id": "approximate-viewer",
   "metadata": {},
   "outputs": [],
   "source": [
    "write.table(clust, file=\"../Mutant_clone/TL6678_clone_clust_new.csv\", quote=F, sep=\",\", col.names=T, row.names=T)"
   ]
  },
  {
   "cell_type": "code",
   "execution_count": null,
   "id": "paperback-diagnosis",
   "metadata": {},
   "outputs": [],
   "source": []
  }
 ],
 "metadata": {
  "kernelspec": {
   "display_name": "R",
   "language": "R",
   "name": "ir"
  },
  "language_info": {
   "codemirror_mode": "r",
   "file_extension": ".r",
   "mimetype": "text/x-r-source",
   "name": "R",
   "pygments_lexer": "r",
   "version": "4.0.4"
  }
 },
 "nbformat": 4,
 "nbformat_minor": 5
}
